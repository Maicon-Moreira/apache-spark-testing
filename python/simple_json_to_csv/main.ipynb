{
 "cells": [
  {
   "cell_type": "code",
   "execution_count": 1,
   "source": [
    "from pyspark.sql import SparkSession\r\n",
    "from pyspark.sql.types import StructType, StructField, StringType, IntegerType\r\n",
    "\r\n",
    "spark = SparkSession.builder.getOrCreate()\r\n"
   ],
   "outputs": [],
   "metadata": {}
  },
  {
   "cell_type": "code",
   "execution_count": 2,
   "source": [
    "# {\r\n",
    "#     \"name\": \"Maicon\",\r\n",
    "#     \"surName\": \"Moreira\",\r\n",
    "#     \"age\": 23,\r\n",
    "#     \"contacts\": {\r\n",
    "#         \"email\": \"maicon.moreira@gmail.com\",\r\n",
    "#         \"phone\": \"4798769876\"\r\n",
    "#     }\r\n",
    "# }\r\n",
    "\r\n",
    "schema = StructType(\r\n",
    "    [\r\n",
    "        StructField(\"name\", StringType(), nullable=False),\r\n",
    "        StructField(\"surName\", StringType(), nullable=False),\r\n",
    "        StructField(\"age\", IntegerType(), nullable=False),\r\n",
    "        StructField(\r\n",
    "            \"contacts\",\r\n",
    "            StructType(\r\n",
    "                [\r\n",
    "                    StructField(\"email\", StringType(), nullable=False),\r\n",
    "                    StructField(\"phone\", StringType(), nullable=False),\r\n",
    "                ]\r\n",
    "            ),\r\n",
    "            nullable=False,\r\n",
    "        ),\r\n",
    "    ]\r\n",
    ")\r\n"
   ],
   "outputs": [],
   "metadata": {}
  },
  {
   "cell_type": "code",
   "execution_count": 3,
   "source": [
    "df = spark.read.json(\"sample.json\", schema, multiLine=True)\r\n",
    "\r\n",
    "df = df.withColumn(\"email\", df.contacts.email).withColumn(\"phone\", df.contacts.phone).drop(\"contacts\")"
   ],
   "outputs": [],
   "metadata": {}
  },
  {
   "cell_type": "code",
   "execution_count": 4,
   "source": [
    "df.show()"
   ],
   "outputs": [
    {
     "output_type": "stream",
     "name": "stdout",
     "text": [
      "+------+-------+---+--------------------+----------+\n",
      "|  name|surName|age|               email|     phone|\n",
      "+------+-------+---+--------------------+----------+\n",
      "|Maicon|Moreira| 23|maicon.moreira@gm...|4798769876|\n",
      "|  João|  Silva| 25|joao.silva@gmail.com|4797531987|\n",
      "| Maria| Santos| 27|maria.santos@gmai...|4798765432|\n",
      "+------+-------+---+--------------------+----------+\n",
      "\n"
     ]
    }
   ],
   "metadata": {}
  },
  {
   "cell_type": "code",
   "execution_count": 5,
   "source": [
    "df.toPandas().to_csv(\"sample.csv\", sep=\";\")\r\n"
   ],
   "outputs": [],
   "metadata": {}
  }
 ],
 "metadata": {
  "orig_nbformat": 4,
  "language_info": {
   "name": "python",
   "version": "3.9.6",
   "mimetype": "text/x-python",
   "codemirror_mode": {
    "name": "ipython",
    "version": 3
   },
   "pygments_lexer": "ipython3",
   "nbconvert_exporter": "python",
   "file_extension": ".py"
  },
  "kernelspec": {
   "name": "python3",
   "display_name": "Python 3.9.6 64-bit"
  },
  "interpreter": {
   "hash": "00c2d7f58209d28d00450bdef544a4ebf0f3b64b0371f6bc30bfdc78bcb5040f"
  }
 },
 "nbformat": 4,
 "nbformat_minor": 2
}