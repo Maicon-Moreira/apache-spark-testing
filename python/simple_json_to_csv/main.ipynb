{
 "cells": [
  {
   "cell_type": "code",
   "execution_count": 29,
   "metadata": {},
   "outputs": [
    {
     "name": "stdout",
     "output_type": "stream",
     "text": [
      "<pyspark.sql.context.SQLContext object at 0x00000202E556BE80>\n"
     ]
    },
    {
     "data": {
      "text/html": [
       "\n",
       "            <div>\n",
       "                <p><b>SparkSession - in-memory</b></p>\n",
       "                \n",
       "        <div>\n",
       "            <p><b>SparkContext</b></p>\n",
       "\n",
       "            <p><a href=\"http://host.docker.internal:4041\">Spark UI</a></p>\n",
       "\n",
       "            <dl>\n",
       "              <dt>Version</dt>\n",
       "                <dd><code>v3.0.3</code></dd>\n",
       "              <dt>Master</dt>\n",
       "                <dd><code>local[*]</code></dd>\n",
       "              <dt>AppName</dt>\n",
       "                <dd><code>pyspark-shell</code></dd>\n",
       "            </dl>\n",
       "        </div>\n",
       "        \n",
       "            </div>\n",
       "        "
      ],
      "text/plain": [
       "<pyspark.sql.session.SparkSession at 0x202ce7c3070>"
      ]
     },
     "execution_count": 29,
     "metadata": {},
     "output_type": "execute_result"
    }
   ],
   "source": [
    "import findspark\n",
    "findspark.init()\n",
    "from pyspark.sql import SparkSession, SQLContext\n",
    "from pyspark.sql.types import StructType, StructField, StringType, IntegerType\n",
    "\n",
    "spark = SparkSession.builder.getOrCreate()\n",
    "sqlc = SQLContext(spark.sparkContext)\n",
    "\n",
    "print(sqlc)\n",
    "\n",
    "spark"
   ]
  },
  {
   "cell_type": "code",
   "execution_count": 30,
   "metadata": {},
   "outputs": [],
   "source": [
    "schema = StructType(\n",
    "    [\n",
    "        StructField(\"name\", StringType(), nullable=False),\n",
    "        StructField(\"surName\", StringType(), nullable=False),\n",
    "        StructField(\"age\", IntegerType(), nullable=False),\n",
    "        StructField(\n",
    "            \"contacts\",\n",
    "            StructType(\n",
    "                [\n",
    "                    StructField(\"email\", StringType(), nullable=False),\n",
    "                    StructField(\"phone\", StringType(), nullable=False),\n",
    "                ]\n",
    "            ),\n",
    "            nullable=False,\n",
    "        ),\n",
    "    ]\n",
    ")\n"
   ]
  },
  {
   "cell_type": "code",
   "execution_count": 31,
   "metadata": {},
   "outputs": [
    {
     "name": "stdout",
     "output_type": "stream",
     "text": [
      "+------+-------+---+--------------------+----------+\n",
      "|  name|surName|age|               email|     phone|\n",
      "+------+-------+---+--------------------+----------+\n",
      "|Maicon|Moreira| 23|maicon.moreira@gm...|4798769876|\n",
      "|  João|  Silva| 25|joao.silva@gmail.com|4797531987|\n",
      "| Maria| Santos| 27|maria.santos@gmai...|4798765432|\n",
      "+------+-------+---+--------------------+----------+\n",
      "\n"
     ]
    }
   ],
   "source": [
    "df = spark.read.json(\"sample.json\", schema, multiLine=True)\n",
    "df = df.withColumn(\"email\", df.contacts.email).withColumn(\"phone\", df.contacts.phone).drop(\"contacts\")\n",
    "df.show()"
   ]
  },
  {
   "cell_type": "code",
   "execution_count": 32,
   "metadata": {},
   "outputs": [],
   "source": [
    "df.toPandas().to_csv(\"sample.csv\", sep=\";\")"
   ]
  }
 ],
 "metadata": {
  "kernelspec": {
   "display_name": "Python 3.10.4 64-bit",
   "language": "python",
   "name": "python3"
  },
  "language_info": {
   "codemirror_mode": {
    "name": "ipython",
    "version": 3
   },
   "file_extension": ".py",
   "mimetype": "text/x-python",
   "name": "python",
   "nbconvert_exporter": "python",
   "pygments_lexer": "ipython3",
   "version": "3.10.4"
  },
  "orig_nbformat": 4,
  "vscode": {
   "interpreter": {
    "hash": "d4c41674199e5f0c3e323bd49c31f1e9c60cd1c6133c77a18e67c235dc70ace2"
   }
  }
 },
 "nbformat": 4,
 "nbformat_minor": 2
}
