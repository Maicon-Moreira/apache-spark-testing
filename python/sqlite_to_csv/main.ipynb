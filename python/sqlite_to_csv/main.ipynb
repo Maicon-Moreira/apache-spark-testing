{
 "cells": [
  {
   "cell_type": "code",
   "execution_count": 1,
   "metadata": {},
   "outputs": [
    {
     "data": {
      "text/html": [
       "\n",
       "            <div>\n",
       "                <p><b>SparkSession - in-memory</b></p>\n",
       "                \n",
       "        <div>\n",
       "            <p><b>SparkContext</b></p>\n",
       "\n",
       "            <p><a href=\"http://host.docker.internal:4041\">Spark UI</a></p>\n",
       "\n",
       "            <dl>\n",
       "              <dt>Version</dt>\n",
       "                <dd><code>v3.0.3</code></dd>\n",
       "              <dt>Master</dt>\n",
       "                <dd><code>local[*]</code></dd>\n",
       "              <dt>AppName</dt>\n",
       "                <dd><code>pyspark-shell</code></dd>\n",
       "            </dl>\n",
       "        </div>\n",
       "        \n",
       "            </div>\n",
       "        "
      ],
      "text/plain": [
       "<pyspark.sql.session.SparkSession at 0x2f369bcee30>"
      ]
     },
     "execution_count": 1,
     "metadata": {},
     "output_type": "execute_result"
    }
   ],
   "source": [
    "import findspark\n",
    "findspark.init()\n",
    "from pyspark.sql import SparkSession, SQLContext\n",
    "import pyspark.sql.functions as F\n",
    "\n",
    "spark = SparkSession.builder\\\n",
    "           .config('spark.jars.packages', 'org.xerial:sqlite-jdbc:3.34.0')\\\n",
    "           .getOrCreate()\n",
    "sqlc = SQLContext(spark.sparkContext)\n",
    "\n",
    "spark"
   ]
  },
  {
   "cell_type": "code",
   "execution_count": 2,
   "metadata": {},
   "outputs": [],
   "source": [
    "# alunos, andares, aulas, blocos, cursos, materias, professores, salas, turmas\n",
    "df_alunos = spark.read.format('jdbc').options(driver='org.sqlite.JDBC', dbtable='alunos', url='jdbc:sqlite:banco_exemplo.db').load()\n",
    "df_andares = spark.read.format('jdbc').options(driver='org.sqlite.JDBC', dbtable='andares', url='jdbc:sqlite:banco_exemplo.db').load()\n",
    "# read data_inicio and data_fim as string\n",
    "df_aulas = spark.read.format('jdbc').options(driver='org.sqlite.JDBC', dbtable='aulas', url='jdbc:sqlite:banco_exemplo.db').load()\n",
    "df_blocos = spark.read.format('jdbc').options(driver='org.sqlite.JDBC', dbtable='blocos', url='jdbc:sqlite:banco_exemplo.db').load()\n",
    "df_cursos = spark.read.format('jdbc').options(driver='org.sqlite.JDBC', dbtable='cursos', url='jdbc:sqlite:banco_exemplo.db').load()\n",
    "df_materias = spark.read.format('jdbc').options(driver='org.sqlite.JDBC', dbtable='materias', url='jdbc:sqlite:banco_exemplo.db').load()\n",
    "df_professores = spark.read.format('jdbc').options(driver='org.sqlite.JDBC', dbtable='professores', url='jdbc:sqlite:banco_exemplo.db').load()\n",
    "df_salas = spark.read.format('jdbc').options(driver='org.sqlite.JDBC', dbtable='salas', url='jdbc:sqlite:banco_exemplo.db').load()\n",
    "df_turmas = spark.read.format('jdbc').options(driver='org.sqlite.JDBC', dbtable='turmas', url='jdbc:sqlite:banco_exemplo.db').load()\n",
    "\n",
    "df_alunos.createOrReplaceTempView('alunos')\n",
    "df_andares.createOrReplaceTempView('andares')\n",
    "df_aulas.createOrReplaceTempView('aulas')\n",
    "df_blocos.createOrReplaceTempView('blocos')\n",
    "df_cursos.createOrReplaceTempView('cursos')\n",
    "df_materias.createOrReplaceTempView('materias')\n",
    "df_professores.createOrReplaceTempView('professores')\n",
    "df_salas.createOrReplaceTempView('salas')\n",
    "df_turmas.createOrReplaceTempView('turmas')"
   ]
  },
  {
   "cell_type": "code",
   "execution_count": 3,
   "metadata": {},
   "outputs": [
    {
     "name": "stdout",
     "output_type": "stream",
     "text": [
      "+--------------------+--------------+---------------+--------------+-----------------+--------------------+--------------------+\n",
      "|          nome_aluno|numero_da_sala|numero_do_andar|letra_do_bloco|nome_do_professor|     nome_da_materia|       nome_do_curso|\n",
      "+--------------------+--------------+---------------+--------------+-----------------+--------------------+--------------------+\n",
      "|Heitor Oliveira C...|             3|              1|             B| Alessandro Souza|Química de Inteli...|   Ciência Geofísica|\n",
      "|Rafael Gonçalves ...|             3|              1|             B| Alessandro Souza|Química de Inteli...|   Ciência Geofísica|\n",
      "|       Eduardo Rocha|             3|              1|             B| Alessandro Souza|Química de Inteli...|   Ciência Geofísica|\n",
      "|Carlos Melo Carvalho|             3|              1|             B| Alessandro Souza|Química de Inteli...|   Ciência Geofísica|\n",
      "|Fernando Lima Roc...|             3|              1|             B| Alessandro Souza|Química de Inteli...|   Ciência Geofísica|\n",
      "|Daniel Carvalho S...|             3|              1|             B| Alessandro Souza|Química de Inteli...|   Ciência Geofísica|\n",
      "|Daniel Moreira Cunha|             3|              1|             B| Alessandro Souza|Química de Inteli...|   Ciência Geofísica|\n",
      "|        Lucas Barros|             3|              1|             B| Alessandro Souza|Química de Inteli...|   Ciência Geofísica|\n",
      "|    Bruna Souza Dias|             3|              1|             B| Alessandro Souza|Química de Inteli...|   Ciência Geofísica|\n",
      "| João Rocha Carvalho|             3|              1|             B| Alessandro Souza|Química de Inteli...|   Ciência Geofísica|\n",
      "|Rafael Alves Cardoso|             3|              1|             B| Alessandro Souza|Química de Inteli...|   Ciência Geofísica|\n",
      "|    Eduardo Oliveira|             3|              1|             B| Alessandro Souza|Química de Inteli...|   Ciência Geofísica|\n",
      "|Alessandro Cardos...|             3|              1|             B| Alessandro Souza|Química de Inteli...|   Ciência Geofísica|\n",
      "|Vitor Pires Ferna...|             3|              1|             B| Alessandro Souza|Química de Inteli...|   Ciência Geofísica|\n",
      "|    João Cunha Silva|             3|              1|             B| Alessandro Souza|Química de Inteli...|   Ciência Geofísica|\n",
      "|Thiago Ribeiro Mo...|             3|              1|             B| Alessandro Souza|Química de Inteli...|   Ciência Geofísica|\n",
      "|    Mateus Fernandes|            12|              0|             B| Alessandro Souza|Química de Inteli...|Engenharia Matemá...|\n",
      "|       Mateus Santos|            12|              0|             B| Alessandro Souza|Química de Inteli...|Engenharia Matemá...|\n",
      "|Sara Santana Alme...|            12|              0|             B| Alessandro Souza|Química de Inteli...|Engenharia Matemá...|\n",
      "|        Rafael Alves|            12|              0|             B| Alessandro Souza|Química de Inteli...|Engenharia Matemá...|\n",
      "+--------------------+--------------+---------------+--------------+-----------------+--------------------+--------------------+\n",
      "only showing top 20 rows\n",
      "\n",
      "+--------------------+-----+\n",
      "|   nome_do_professor|count|\n",
      "+--------------------+-----+\n",
      "|José Carvalho Car...|38206|\n",
      "|Pedro Moreira Lim...|39562|\n",
      "|José Silva Barros...|36955|\n",
      "|Vitor Nunes Almei...|39014|\n",
      "|       Bruna Martins|38125|\n",
      "|Daniel Souza Souz...|37445|\n",
      "|        José Santana|37492|\n",
      "|Sara Moreira Almeida|38962|\n",
      "|Daniel Nunes Mart...|38241|\n",
      "|Bruna Nunes Lima ...|38375|\n",
      "|      Heitor Santana|38197|\n",
      "|Mateus Pereira Pinto|40640|\n",
      "|Daniel Pinto Mend...|39437|\n",
      "|     Lucas Gonçalves|39649|\n",
      "|        Mateus Pires|39355|\n",
      "|        José Almeida|38284|\n",
      "|Bruna Mendes Carv...|38400|\n",
      "|       Ana Melo Melo|39524|\n",
      "|   Ana Barros Mendes|74624|\n",
      "|         Vitor Nunes|38599|\n",
      "+--------------------+-----+\n",
      "only showing top 20 rows\n",
      "\n"
     ]
    }
   ],
   "source": [
    "# select\n",
    "#        alunos.nome as nome_aluno,\n",
    "#        aulas.data_inicio as data_inicio_aula,\n",
    "#        aulas.data_fim as data_fim_aula,\n",
    "#        salas.numero as numero_da_sala,\n",
    "#        andares.numero as numero_do_andar,\n",
    "#        blocos.letra as letra_do_bloco,\n",
    "#        professores.nome as nome_do_professor,\n",
    "#        materias.nome as nome_da_materia,\n",
    "#        cursos.nome as nome_do_curso\n",
    "# from\n",
    "#        alunos\n",
    "#        join turmas on alunos.turma_id = turmas.id\n",
    "#        join cursos on turmas.curso_id = cursos.id\n",
    "#        join aulas on turmas.id = aulas.turma_id\n",
    "#        join salas on aulas.sala_id = salas.id\n",
    "#        join andares on salas.andar_id = andares.id\n",
    "#        join blocos on andares.bloco_id = blocos.id\n",
    "#        join professores on aulas.professor_id = professores.id\n",
    "#        join materias on aulas.materia_id = materias.id\n",
    "\n",
    "df_final = (\n",
    "    df_alunos.join(df_turmas, df_alunos.turma_id == df_turmas.id, \"inner\")\n",
    "    .join(df_cursos, df_turmas.curso_id == df_cursos.id, \"inner\")\n",
    "    .join(df_aulas, df_turmas.id == df_aulas.turma_id, \"inner\")\n",
    "    .join(df_salas, df_aulas.sala_id == df_salas.id, \"inner\")\n",
    "    .join(df_andares, df_salas.andar_id == df_andares.id, \"inner\")\n",
    "    .join(df_blocos, df_andares.bloco_id == df_blocos.id, \"inner\")\n",
    "    .join(df_professores, df_aulas.professor_id == df_professores.id, \"inner\")\n",
    "    .join(df_materias, df_aulas.materia_id == df_materias.id, \"inner\")\n",
    "    .select(\n",
    "        df_alunos.nome.alias(\"nome_aluno\"),\n",
    "        # df_aulas.data_inicio.alias(\"data_inicio_aula\"), incompatible with sqlite\n",
    "        # df_aulas.data_fim.alias(\"data_fim_aula\"), incompatible with sqlite\n",
    "        df_salas.numero.alias(\"numero_da_sala\"),\n",
    "        df_andares.numero.alias(\"numero_do_andar\"),\n",
    "        df_blocos.letra.alias(\"letra_do_bloco\"),\n",
    "        df_professores.nome.alias(\"nome_do_professor\"),\n",
    "        df_materias.nome.alias(\"nome_da_materia\"),\n",
    "        df_cursos.nome.alias(\"nome_do_curso\"),\n",
    "    )\n",
    ")\n",
    "\n",
    "df_final.show()\n",
    "\n",
    "df_classes_per_teacher = df_final.groupBy(\"nome_do_professor\").count()\n",
    "df_classes_per_teacher.show()"
   ]
  },
  {
   "cell_type": "code",
   "execution_count": 4,
   "metadata": {},
   "outputs": [],
   "source": [
    "# save the dfs\n",
    "# df_final.write.format('csv').save('classes_per_teacher.csv')\n",
    "# df_classes_per_teacher.write.format('csv').save('classes_per_teacher_count.csv')\n",
    "df_final.toPandas().to_csv('classes_per_teacher.csv')\n",
    "df_classes_per_teacher.toPandas().to_csv('classes_per_teacher_count.csv')"
   ]
  }
 ],
 "metadata": {
  "kernelspec": {
   "display_name": "Python 3.10.4 64-bit",
   "language": "python",
   "name": "python3"
  },
  "language_info": {
   "codemirror_mode": {
    "name": "ipython",
    "version": 3
   },
   "file_extension": ".py",
   "mimetype": "text/x-python",
   "name": "python",
   "nbconvert_exporter": "python",
   "pygments_lexer": "ipython3",
   "version": "3.10.4"
  },
  "orig_nbformat": 4,
  "vscode": {
   "interpreter": {
    "hash": "d4c41674199e5f0c3e323bd49c31f1e9c60cd1c6133c77a18e67c235dc70ace2"
   }
  }
 },
 "nbformat": 4,
 "nbformat_minor": 2
}
